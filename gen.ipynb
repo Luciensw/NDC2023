{
 "cells": [
  {
   "cell_type": "code",
   "execution_count": 1,
   "metadata": {},
   "outputs": [],
   "source": [
    "from random import random"
   ]
  },
  {
   "cell_type": "code",
   "execution_count": 10,
   "metadata": {},
   "outputs": [],
   "source": [
    "from random import random\n",
    "def draw(map : list, i : int, j : int):\n",
    "    rate = 0.6\n",
    "    if i+1 < len(map) and map[i+1][j] != 1:\n",
    "        if random()> rate:\n",
    "            map[i+1][j] = 1\n",
    "            draw(map, i+1, j)\n",
    "    if j+1 < len(map) and map[i][j+1] != 1:\n",
    "        if random()> rate:\n",
    "            map[i][j+1] = 1\n",
    "            draw(map, i, j+1)\n",
    "    if i-1 >= 0 and map[i-1][j] != 1:\n",
    "        if random()> rate:\n",
    "            map[i-1][j] = 1\n",
    "            draw(map, i-1, j)\n",
    "    if j+1 >= 0 and map[i][j-1] != 1:\n",
    "        if random()> rate:\n",
    "            map[i][j-1] = 1\n",
    "            draw(map, i, j-1)"
   ]
  },
  {
   "cell_type": "code",
   "execution_count": 12,
   "metadata": {},
   "outputs": [
    {
     "name": "stdout",
     "output_type": "stream",
     "text": [
      "0 0 0 0 0 0 0 0 0 0 \n",
      "0 0 0 0 0 0 0 0 0 0 \n",
      "0 0 0 0 0 0 0 0 0 0 \n",
      "0 0 0 0 0 0 1 0 0 0 \n",
      "0 0 0 0 0 1 1 1 1 1 \n",
      "0 0 0 0 0 1 1 1 1 1 \n",
      "0 0 0 0 0 1 1 1 1 1 \n",
      "0 0 0 0 1 1 1 1 1 0 \n",
      "0 0 0 0 0 1 1 1 1 0 \n",
      "0 0 0 0 0 1 1 1 1 0 \n"
     ]
    }
   ],
   "source": [
    "def gen_procedurale():\n",
    "    map = [[0]*10 for i in range(10)]\n",
    "    map[5][5] = 1\n",
    "    for i in range(len(map)):\n",
    "        for j in range(len(map)):\n",
    "            if map[i][j] == 1:\n",
    "                draw(map, i, j)\n",
    "    for ligne in map:\n",
    "        for col in ligne:\n",
    "            print(col, end=\" \")\n",
    "        print()\n",
    "gen_procedurale()"
   ]
  },
  {
   "cell_type": "code",
   "execution_count": 15,
   "metadata": {},
   "outputs": [
    {
     "name": "stdout",
     "output_type": "stream",
     "text": [
      "11 7 15 11\n"
     ]
    }
   ],
   "source": [
    "from random import randint\n",
    "def gen_rectangle():\n",
    "    x = randint(0, 20)\n",
    "    y = randint(0, 20)\n",
    "    w = randint(10, 40-x)\n",
    "    h = randint(10, 40-y)\n",
    "    print(x,y,w,h)\n",
    "gen_rectangle()"
   ]
  }
 ],
 "metadata": {
  "kernelspec": {
   "display_name": "Python 3",
   "language": "python",
   "name": "python3"
  },
  "language_info": {
   "codemirror_mode": {
    "name": "ipython",
    "version": 3
   },
   "file_extension": ".py",
   "mimetype": "text/x-python",
   "name": "python",
   "nbconvert_exporter": "python",
   "pygments_lexer": "ipython3",
   "version": "3.11.3"
  },
  "orig_nbformat": 4
 },
 "nbformat": 4,
 "nbformat_minor": 2
}
